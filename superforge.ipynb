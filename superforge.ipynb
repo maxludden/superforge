{
 "cells": [
  {
   "cell_type": "markdown",
   "metadata": {},
   "source": [
    "# Super Forge\n",
    "\n",
    "## Module\n",
    "\n",
    "> superforge/superforge.ipynb\n",
    "\n",
    "#### Created by Max Ludden\n",
    "\n",
    "This module is a series of function to scrape, edit, format, and generate epub ebooks containing Twelve-Winged Burning Seraphim's Super Gene webnovels. It's also been my personal motivation to learn pythong.\n",
    "\n",
    "## This Noteboook\n",
    "\n",
    "The notebook is included to provide me and whoever use this bode with a bit of the rational behind who the ebooks are generated. They also serve as a great way for me to remind myself what's going on at each step so nothing gets left out.\n",
    "\n",
    "## Imports"
   ]
  },
  {
   "cell_type": "code",
   "execution_count": 2,
   "metadata": {},
   "outputs": [],
   "source": [
    "#supergorge/superforge.py\n",
    "from json import load, dump, loads, dumps\n",
    "from os import environ\n",
    "from dotenv import load_dotenv\n",
    "from tqdm.auto import tqdm\n",
    "\n",
    "\n",
    "from core.atlas import sg, BASE\n",
    "from core.log import log, errwrap\n",
    "import core.cover as coverpage_\n",
    "import core.titlepage as titlepage_\n",
    "import core.section as section_\n",
    "import core.chapter as chapter_\n",
    "import core.endofbook as eob_\n",
    "import core.myaml as yaml\n"
   ]
  }
 ],
 "metadata": {
  "kernelspec": {
   "display_name": "Python 3.10.2 ('supergene')",
   "language": "python",
   "name": "python3"
  },
  "language_info": {
   "codemirror_mode": {
    "name": "ipython",
    "version": 3
   },
   "file_extension": ".py",
   "mimetype": "text/x-python",
   "name": "python",
   "nbconvert_exporter": "python",
   "pygments_lexer": "ipython3",
   "version": "3.10.2"
  },
  "orig_nbformat": 4,
  "vscode": {
   "interpreter": {
    "hash": "25f6ee71d5793b39991dcf683075eac06563d7f267185e18c677647e4ee643c9"
   }
  }
 },
 "nbformat": 4,
 "nbformat_minor": 2
}
